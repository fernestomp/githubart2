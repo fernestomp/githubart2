{
 "cells": [
  {
   "cell_type": "code",
   "execution_count": 1,
   "id": "dc44e913-30f1-4a49-8609-c3c7925b66b2",
   "metadata": {
    "ExecuteTime": {
     "end_time": "2021-12-15T06:10:04.484651Z",
     "start_time": "2021-12-15T06:10:04.471661Z"
    }
   },
   "outputs": [
    {
     "data": {
      "text/plain": [
       "'\\nNotebook para asociar una velocidad de viento a una curva de potencia ideal con un rango de error por definir\\n'"
      ]
     },
     "execution_count": 1,
     "metadata": {},
     "output_type": "execute_result"
    }
   ],
   "source": [
    "'''\n",
    "Notebook para asociar una velocidad de viento a una curva de potencia ideal con un rango de error por definir\n",
    "'''"
   ]
  },
  {
   "cell_type": "code",
   "execution_count": 2,
   "id": "e08e16fb-c288-4bd1-9ead-21d1b7215de5",
   "metadata": {
    "ExecuteTime": {
     "end_time": "2021-12-15T06:10:08.172602Z",
     "start_time": "2021-12-15T06:10:04.486619Z"
    }
   },
   "outputs": [],
   "source": [
    "%matplotlib inline\n",
    "import pandas as pd\n",
    "import numpy as np\n",
    "#importa las fuciones que cree desde otro notebook (instalar modulo ipynb)\n",
    "import ipynb.fs.defs.my_funcs_clusters as myfunc\n",
    "import matplotlib.pyplot as plt\n",
    "from matplotlib.ticker import EngFormatter\n",
    "from matplotlib import rc, font_manager\n",
    "import ipywidgets as widgets\n",
    "from ipywidgets import interact, interactive, fixed, interact_manual\n",
    "from IPython import display as dpy\n",
    "\n"
   ]
  },
  {
   "cell_type": "code",
   "execution_count": 95,
   "id": "bf32e73b",
   "metadata": {
    "ExecuteTime": {
     "end_time": "2021-12-15T07:07:42.147703Z",
     "start_time": "2021-12-15T07:07:42.140621Z"
    }
   },
   "outputs": [],
   "source": [
    "pd.set_option('display.max_rows', 100)\n"
   ]
  },
  {
   "cell_type": "code",
   "execution_count": 3,
   "id": "4127b7fc-a6d1-466b-b305-65c98ebc78c9",
   "metadata": {
    "ExecuteTime": {
     "end_time": "2021-12-15T06:10:16.719264Z",
     "start_time": "2021-12-15T06:10:08.175562Z"
    }
   },
   "outputs": [
    {
     "name": "stdout",
     "output_type": "stream",
     "text": [
      "Total de registros: 52848\n",
      "Numero de filas sin datos\n",
      "vViento    312\n",
      "Pacw       312\n",
      "dtype: int64\n"
     ]
    }
   ],
   "source": [
    "lsPath = 'C:/Users/mungu/Documents/DatosWTG.xlsx'\n",
    "xlsPathMfgCurve = 'C:/Users/mungu/Dropbox/Doctorado/Python/aero/Curva de potencia vestas 90.xlsx'\n",
    "dataVDP,dfVecVel,dfMfgCurve = myfunc.raw_to_datafr(lsPath,xlsPathMfgCurve)\n",
    "dataVP = dataVDP.drop('Dir',axis=1)"
   ]
  },
  {
   "cell_type": "markdown",
   "id": "e7643211",
   "metadata": {
    "ExecuteTime": {
     "end_time": "2021-12-03T08:04:15.763715Z",
     "start_time": "2021-12-03T08:04:15.743663Z"
    },
    "heading_collapsed": true
   },
   "source": [
    "# Encontrar la relación viento-potencia"
   ]
  },
  {
   "cell_type": "markdown",
   "id": "fc6aad67",
   "metadata": {
    "hidden": true
   },
   "source": [
    "Quiero saber por cada x cantidad de viento, cuanta potencia sube"
   ]
  },
  {
   "cell_type": "code",
   "execution_count": 4,
   "id": "d659effb",
   "metadata": {
    "ExecuteTime": {
     "end_time": "2021-12-15T06:10:16.983076Z",
     "start_time": "2021-12-15T06:10:16.721221Z"
    },
    "hidden": true,
    "tags": []
   },
   "outputs": [
    {
     "data": {
      "text/plain": [
       "[<matplotlib.lines.Line2D at 0x1c29a55b310>]"
      ]
     },
     "execution_count": 4,
     "metadata": {},
     "output_type": "execute_result"
    },
    {
     "data": {
      "image/png": "[encoded data removed]",
      "text/plain": [
       "<Figure size 432x288 with 1 Axes>"
      ]
     },
     "metadata": {
      "needs_background": "light"
     },
     "output_type": "display_data"
    }
   ],
   "source": [
    "fechaini = '2016-01-01 00:00:00'\n",
    "fechafin= '2016-01-01 23:59:59'\n",
    "dataVP1Dia = dataVP.loc[fechaini:fechafin]\n",
    "dataVP1Dia_ord=dataVP1Dia.sort_values(by=['vViento'])\n",
    "plt.plot(dataVP1Dia_ord.vViento,dataVP1Dia_ord.Pw)"
   ]
  },
  {
   "cell_type": "code",
   "execution_count": 5,
   "id": "0542b64c",
   "metadata": {
    "ExecuteTime": {
     "end_time": "2021-12-15T06:10:17.014036Z",
     "start_time": "2021-12-15T06:10:16.985070Z"
    },
    "hidden": true
   },
   "outputs": [
    {
     "data": {
      "text/html": [
       "<div>\n",
       "<style scoped>\n",
       "    .dataframe tbody tr th:only-of-type {\n",
       "        vertical-align: middle;\n",
       "    }\n",
       "\n",
       "    .dataframe tbody tr th {\n",
       "        vertical-align: top;\n",
       "    }\n",
       "\n",
       "    .dataframe thead th {\n",
       "        text-align: right;\n",
       "    }\n",
       "</style>\n",
       "<table border=\"1\" class=\"dataframe\">\n",
       "  <thead>\n",
       "    <tr style=\"text-align: right;\">\n",
       "      <th></th>\n",
       "      <th>vViento</th>\n",
       "      <th>Pw</th>\n",
       "    </tr>\n",
       "    <tr>\n",
       "      <th>PCTimeStamp</th>\n",
       "      <th></th>\n",
       "      <th></th>\n",
       "    </tr>\n",
       "  </thead>\n",
       "  <tbody>\n",
       "    <tr>\n",
       "      <th>2016-01-01 00:00:00</th>\n",
       "      <td>12.7</td>\n",
       "      <td>1.953050e+06</td>\n",
       "    </tr>\n",
       "    <tr>\n",
       "      <th>2016-01-01 00:10:00</th>\n",
       "      <td>14.8</td>\n",
       "      <td>2.067561e+06</td>\n",
       "    </tr>\n",
       "    <tr>\n",
       "      <th>2016-01-01 00:20:00</th>\n",
       "      <td>16.2</td>\n",
       "      <td>2.048475e+06</td>\n",
       "    </tr>\n",
       "    <tr>\n",
       "      <th>2016-01-01 00:30:00</th>\n",
       "      <td>14.9</td>\n",
       "      <td>2.080284e+06</td>\n",
       "    </tr>\n",
       "    <tr>\n",
       "      <th>2016-01-01 00:40:00</th>\n",
       "      <td>16.2</td>\n",
       "      <td>2.073922e+06</td>\n",
       "    </tr>\n",
       "    <tr>\n",
       "      <th>...</th>\n",
       "      <td>...</td>\n",
       "      <td>...</td>\n",
       "    </tr>\n",
       "    <tr>\n",
       "      <th>2016-01-01 23:10:00</th>\n",
       "      <td>13.0</td>\n",
       "      <td>1.673134e+06</td>\n",
       "    </tr>\n",
       "    <tr>\n",
       "      <th>2016-01-01 23:20:00</th>\n",
       "      <td>12.1</td>\n",
       "      <td>1.342324e+06</td>\n",
       "    </tr>\n",
       "    <tr>\n",
       "      <th>2016-01-01 23:30:00</th>\n",
       "      <td>10.4</td>\n",
       "      <td>1.348686e+06</td>\n",
       "    </tr>\n",
       "    <tr>\n",
       "      <th>2016-01-01 23:40:00</th>\n",
       "      <td>10.7</td>\n",
       "      <td>1.673134e+06</td>\n",
       "    </tr>\n",
       "    <tr>\n",
       "      <th>2016-01-01 23:50:00</th>\n",
       "      <td>11.7</td>\n",
       "      <td>1.380494e+06</td>\n",
       "    </tr>\n",
       "  </tbody>\n",
       "</table>\n",
       "<p>144 rows × 2 columns</p>\n",
       "</div>"
      ],
      "text/plain": [
       "                     vViento            Pw\n",
       "PCTimeStamp                               \n",
       "2016-01-01 00:00:00     12.7  1.953050e+06\n",
       "2016-01-01 00:10:00     14.8  2.067561e+06\n",
       "2016-01-01 00:20:00     16.2  2.048475e+06\n",
       "2016-01-01 00:30:00     14.9  2.080284e+06\n",
       "2016-01-01 00:40:00     16.2  2.073922e+06\n",
       "...                      ...           ...\n",
       "2016-01-01 23:10:00     13.0  1.673134e+06\n",
       "2016-01-01 23:20:00     12.1  1.342324e+06\n",
       "2016-01-01 23:30:00     10.4  1.348686e+06\n",
       "2016-01-01 23:40:00     10.7  1.673134e+06\n",
       "2016-01-01 23:50:00     11.7  1.380494e+06\n",
       "\n",
       "[144 rows x 2 columns]"
      ]
     },
     "execution_count": 5,
     "metadata": {},
     "output_type": "execute_result"
    }
   ],
   "source": [
    "dataVP1Dia"
   ]
  },
  {
   "cell_type": "code",
   "execution_count": 6,
   "id": "c503d14c",
   "metadata": {
    "ExecuteTime": {
     "end_time": "2021-12-15T06:10:17.293173Z",
     "start_time": "2021-12-15T06:10:17.014999Z"
    },
    "hidden": true
   },
   "outputs": [
    {
     "data": {
      "application/vnd.jupyter.widget-view+json": {
       "model_id": "50511fbda3e04d5eb2f430005a33135f",
       "version_major": 2,
       "version_minor": 0
      },
      "text/plain": [
       "SelectionSlider(continuous_update=False, description='Dia:', options=(Timestamp('2016-01-01 00:00:00', freq='D…"
      ]
     },
     "metadata": {},
     "output_type": "display_data"
    },
    {
     "data": {
      "application/vnd.jupyter.widget-view+json": {
       "model_id": "ee0b2b28cfa34c61bd7ba266aa2c789a",
       "version_major": 2,
       "version_minor": 0
      },
      "text/plain": [
       "Output()"
      ]
     },
     "metadata": {},
     "output_type": "display_data"
    },
    {
     "data": {
      "image/png": "[encoded data removed]",
      "text/plain": [
       "<Figure size 720x504 with 1 Axes>"
      ]
     },
     "metadata": {},
     "output_type": "display_data"
    },
    {
     "data": {
      "image/png": "[encoded data removed]",
      "text/plain": [
       "<Figure size 720x504 with 1 Axes>"
      ]
     },
     "metadata": {
      "needs_background": "light"
     },
     "output_type": "display_data"
    }
   ],
   "source": [
    "#porque son las tres de la mañana, se salta el primer dia\n",
    "#HORRIBLE CODIGO\n",
    "rango_fechas = pd.date_range(dataVP.index[0],dataVP.index[-1])\n",
    "\n",
    "###########   widgets #########\n",
    "\n",
    "sslider =widgets.SelectionSlider(\n",
    "    options=rango_fechas,\n",
    "    description='Dia:',\n",
    "    disabled=False,\n",
    "    continuous_update=False,\n",
    "    orientation='horizontal',\n",
    ")\n",
    "\n",
    "output3= widgets.Output()\n",
    "\n",
    "display(sslider, output3)\n",
    "\n",
    "############ funcion y ploteo###############\n",
    "plt.ioff()\n",
    "fig = plt.figure(figsize=(10,7))\n",
    "axes = fig.add_subplot(111)\n",
    "\n",
    "hfig = display(fig, display_id=True)\n",
    "def on_value_change3(change,):\n",
    "    with output3:\n",
    "        #no sirve si la fecha y hora exacta no existe\n",
    "        dia=dataVP.loc[change['new']:change['new']+pd.Timedelta(1,'day')]\n",
    "        dia_ord = dia.sort_values(by='vViento')\n",
    "        #ax.set_xdata(dia_ord.vViento)\n",
    "        #ax.set_ydata(dia_ord.Pw)\n",
    "        axes.cla()\n",
    "        axes.plot(dia_ord.vViento,dia_ord.Pw)\n",
    "        axes.set_xlim([0,30])\n",
    "        axes.set_ylim([-40e3,2.2e6])\n",
    "        fig.canvas.draw()\n",
    "        hfig.update(fig)\n",
    "\n",
    "sslider.observe(on_value_change3, names='value')"
   ]
  },
  {
   "cell_type": "code",
   "execution_count": 7,
   "id": "533726d2",
   "metadata": {
    "ExecuteTime": {
     "end_time": "2021-12-15T06:10:17.308801Z",
     "start_time": "2021-12-15T06:10:17.295166Z"
    },
    "hidden": true
   },
   "outputs": [],
   "source": [
    "#Recolectando datos\n",
    "#numero de dias\n",
    "d1 =dataVP.index[0]\n",
    "d2=dataVP.index[-1]\n",
    "n =d2-d1\n",
    "ndias_total=n.days\n"
   ]
  },
  {
   "cell_type": "markdown",
   "id": "8bb206b5",
   "metadata": {},
   "source": [
    "# Observando la variacion entre velocidades de viento iguales y potencia"
   ]
  },
  {
   "cell_type": "code",
   "execution_count": 8,
   "id": "f7b2ef17",
   "metadata": {
    "ExecuteTime": {
     "end_time": "2021-12-15T06:10:17.324184Z",
     "start_time": "2021-12-15T06:10:17.310650Z"
    }
   },
   "outputs": [
    {
     "name": "stdout",
     "output_type": "stream",
     "text": [
      "Deberian ser 276 velocidades, pero son 274\n",
      "Faltan 2 velocidades\n",
      "Las velocidades que faltan son:\n",
      "26.8, 27.3\n"
     ]
    }
   ],
   "source": [
    "#buscar valores unicos de velocidad de viento\n",
    "vv_unic= np.sort(dataVP.vViento.unique())\n",
    "a =vv_unic\n",
    "b =np.round(np.arange(0.1,27.7,0.1),decimals=1)\n",
    "c= list(set(a)  ^ set(b))\n",
    "print('Deberian ser %d velocidades, pero son %d'%(len(b),len(a)))\n",
    "print('Faltan %d velocidades'%(len(c)))\n",
    "print('Las velocidades que faltan son:')\n",
    "print(*c, sep = \", \") \n"
   ]
  },
  {
   "cell_type": "code",
   "execution_count": 10,
   "id": "7010fee6",
   "metadata": {
    "ExecuteTime": {
     "end_time": "2021-12-15T06:10:17.386281Z",
     "start_time": "2021-12-15T06:10:17.357321Z"
    }
   },
   "outputs": [
    {
     "data": {
      "text/html": [
       "<div>\n",
       "<style scoped>\n",
       "    .dataframe tbody tr th:only-of-type {\n",
       "        vertical-align: middle;\n",
       "    }\n",
       "\n",
       "    .dataframe tbody tr th {\n",
       "        vertical-align: top;\n",
       "    }\n",
       "\n",
       "    .dataframe thead th {\n",
       "        text-align: right;\n",
       "    }\n",
       "</style>\n",
       "<table border=\"1\" class=\"dataframe\">\n",
       "  <thead>\n",
       "    <tr style=\"text-align: right;\">\n",
       "      <th></th>\n",
       "      <th>vViento</th>\n",
       "      <th>Pw</th>\n",
       "    </tr>\n",
       "    <tr>\n",
       "      <th>PCTimeStamp</th>\n",
       "      <th></th>\n",
       "      <th></th>\n",
       "    </tr>\n",
       "  </thead>\n",
       "  <tbody>\n",
       "    <tr>\n",
       "      <th>2016-01-06 04:40:00</th>\n",
       "      <td>10.1</td>\n",
       "      <td>1.221451e+06</td>\n",
       "    </tr>\n",
       "    <tr>\n",
       "      <th>2016-01-06 05:30:00</th>\n",
       "      <td>10.1</td>\n",
       "      <td>1.514091e+06</td>\n",
       "    </tr>\n",
       "    <tr>\n",
       "      <th>2016-01-10 04:40:00</th>\n",
       "      <td>10.1</td>\n",
       "      <td>1.577708e+06</td>\n",
       "    </tr>\n",
       "    <tr>\n",
       "      <th>2016-01-11 10:00:00</th>\n",
       "      <td>10.1</td>\n",
       "      <td>1.692219e+06</td>\n",
       "    </tr>\n",
       "    <tr>\n",
       "      <th>2016-01-12 07:40:00</th>\n",
       "      <td>10.1</td>\n",
       "      <td>9.160884e+05</td>\n",
       "    </tr>\n",
       "    <tr>\n",
       "      <th>...</th>\n",
       "      <td>...</td>\n",
       "      <td>...</td>\n",
       "    </tr>\n",
       "    <tr>\n",
       "      <th>2016-12-14 08:50:00</th>\n",
       "      <td>10.1</td>\n",
       "      <td>1.030599e+06</td>\n",
       "    </tr>\n",
       "    <tr>\n",
       "      <th>2016-12-15 10:20:00</th>\n",
       "      <td>10.1</td>\n",
       "      <td>1.030599e+06</td>\n",
       "    </tr>\n",
       "    <tr>\n",
       "      <th>2016-12-16 09:30:00</th>\n",
       "      <td>10.1</td>\n",
       "      <td>1.157834e+06</td>\n",
       "    </tr>\n",
       "    <tr>\n",
       "      <th>2016-12-24 08:50:00</th>\n",
       "      <td>10.1</td>\n",
       "      <td>8.143008e+05</td>\n",
       "    </tr>\n",
       "    <tr>\n",
       "      <th>2016-12-26 22:40:00</th>\n",
       "      <td>10.1</td>\n",
       "      <td>1.208728e+06</td>\n",
       "    </tr>\n",
       "  </tbody>\n",
       "</table>\n",
       "<p>196 rows × 2 columns</p>\n",
       "</div>"
      ],
      "text/plain": [
       "                     vViento            Pw\n",
       "PCTimeStamp                               \n",
       "2016-01-06 04:40:00     10.1  1.221451e+06\n",
       "2016-01-06 05:30:00     10.1  1.514091e+06\n",
       "2016-01-10 04:40:00     10.1  1.577708e+06\n",
       "2016-01-11 10:00:00     10.1  1.692219e+06\n",
       "2016-01-12 07:40:00     10.1  9.160884e+05\n",
       "...                      ...           ...\n",
       "2016-12-14 08:50:00     10.1  1.030599e+06\n",
       "2016-12-15 10:20:00     10.1  1.030599e+06\n",
       "2016-12-16 09:30:00     10.1  1.157834e+06\n",
       "2016-12-24 08:50:00     10.1  8.143008e+05\n",
       "2016-12-26 22:40:00     10.1  1.208728e+06\n",
       "\n",
       "[196 rows x 2 columns]"
      ]
     },
     "execution_count": 10,
     "metadata": {},
     "output_type": "execute_result"
    }
   ],
   "source": [
    "d = dataVP.loc[dataVP.vViento==vv_unic[100]]\n",
    "d"
   ]
  },
  {
   "cell_type": "code",
   "execution_count": 11,
   "id": "eaa3b8b5",
   "metadata": {
    "ExecuteTime": {
     "end_time": "2021-12-15T06:10:17.667342Z",
     "start_time": "2021-12-15T06:10:17.388240Z"
    }
   },
   "outputs": [
    {
     "data": {
      "application/vnd.jupyter.widget-view+json": {
       "model_id": "7e997909d0ef46a981d942c250ea0479",
       "version_major": 2,
       "version_minor": 0
      },
      "text/plain": [
       "SelectionSlider(continuous_update=False, description='Velocidad:', options=(0.1, 0.2, 0.3, 0.4, 0.5, 0.6, 0.7,…"
      ]
     },
     "metadata": {},
     "output_type": "display_data"
    },
    {
     "data": {
      "application/vnd.jupyter.widget-view+json": {
       "model_id": "2768e819425c4ab0b58ce8d501ac5e59",
       "version_major": 2,
       "version_minor": 0
      },
      "text/plain": [
       "Output()"
      ]
     },
     "metadata": {},
     "output_type": "display_data"
    },
    {
     "data": {
      "image/png": "[encoded data removed]",
      "text/plain": [
       "<Figure size 720x504 with 1 Axes>"
      ]
     },
     "metadata": {},
     "output_type": "display_data"
    },
    {
     "data": {
      "image/png": "[encoded data removed]",
      "text/plain": [
       "<Figure size 720x504 with 1 Axes>"
      ]
     },
     "metadata": {
      "needs_background": "light"
     },
     "output_type": "display_data"
    }
   ],
   "source": [
    "#porque son las 5:30 de la mañana, se salta el primer dia\n",
    "#HORRIBLE CODIGO\n",
    "#no se ordenand las velocidades de viento por potencia,debe ser por hora de lectura\n",
    "\n",
    "###########   widgets #########\n",
    "\n",
    "sslidervv =widgets.SelectionSlider(\n",
    "    options=vv_unic,\n",
    "    description='Velocidad:',\n",
    "    disabled=False,\n",
    "    continuous_update=False,\n",
    "    orientation='horizontal',\n",
    ")\n",
    "\n",
    "outputvv= widgets.Output()\n",
    "\n",
    "display(sslidervv, outputvv)\n",
    "\n",
    "############ funcion y ploteo###############\n",
    "plt.ioff()\n",
    "fig = plt.figure(figsize=(10,7))\n",
    "axes = fig.add_subplot(111)\n",
    "\n",
    "hfig = display(fig, display_id=True)\n",
    "def on_value_changevv(change,):\n",
    "    with outputvv:\n",
    "        #no sirve si la fecha y hora exacta no existe\n",
    "        vv_pw=dataVP.loc[dataVP.vViento==change['new']]\n",
    "        df_describe =vv_pw.describe()\n",
    "        #convertir el describe a texto y ponerlo en formato cientifico para la tabla\n",
    "        describe_sci =[[format(element,'.2E') for element in el] for el in df_describe.values.tolist()]\n",
    "\n",
    "        axes.cla()\n",
    "        axes.plot(vv_pw.index,vv_pw.Pw)\n",
    "        axes.table(describe_sci, colLabels=df_describe.columns,rowLabels=df_describe.T.columns)\n",
    "        axes.tick_params(axis='x', pad=-20)\n",
    "        axes.ticklabel_format(axis=\"y\", style=\"sci\", scilimits=(0,0))\n",
    "\n",
    "        #axes.set_xlim([0,30])\n",
    "#         axes.set_ylim([-40e3,2.2e6])\n",
    "        fig.canvas.draw()\n",
    "        hfig.update(fig)\n",
    "sslidervv.observe(on_value_changevv, names='value')"
   ]
  },
  {
   "cell_type": "code",
   "execution_count": 12,
   "id": "22321cf1",
   "metadata": {
    "ExecuteTime": {
     "end_time": "2021-12-15T06:10:17.683232Z",
     "start_time": "2021-12-15T06:10:17.669337Z"
    }
   },
   "outputs": [],
   "source": [
    "h =dataVP.loc[dataVP.vViento==20]\n",
    "a =h.describe()\n",
    "pd.set_option('display.float_format', lambda x: '%.3f' % x)\n",
    "a\n",
    "b=a.values"
   ]
  },
  {
   "cell_type": "code",
   "execution_count": 13,
   "id": "2fc51bae",
   "metadata": {
    "ExecuteTime": {
     "end_time": "2021-12-15T06:10:17.699272Z",
     "start_time": "2021-12-15T06:10:17.686230Z"
    }
   },
   "outputs": [
    {
     "data": {
      "text/plain": [
       "[[60.0, 60.0],\n",
       " [20.0, 1841507.3657547294],\n",
       " [0.0, 313169.05786625034],\n",
       " [20.0, -25446.900494077323],\n",
       " [20.0, 1863985.461191164],\n",
       " [20.0, 1908517.5370557993],\n",
       " [20.0, 1972134.7882909926],\n",
       " [20.0, 2061198.9400202632]]"
      ]
     },
     "execution_count": 13,
     "metadata": {},
     "output_type": "execute_result"
    }
   ],
   "source": [
    "b.tolist()"
   ]
  },
  {
   "cell_type": "code",
   "execution_count": 14,
   "id": "2804cf28",
   "metadata": {
    "ExecuteTime": {
     "end_time": "2021-12-15T06:10:17.714158Z",
     "start_time": "2021-12-15T06:10:17.702191Z"
    }
   },
   "outputs": [
    {
     "data": {
      "text/plain": [
       "[2, 2, 2, 2, 2, 2, 2, 2]"
      ]
     },
     "execution_count": 14,
     "metadata": {},
     "output_type": "execute_result"
    }
   ],
   "source": [
    "d =list(map(len,b.tolist()))\n",
    "d\n"
   ]
  },
  {
   "cell_type": "code",
   "execution_count": 15,
   "id": "dc95bc0a",
   "metadata": {
    "ExecuteTime": {
     "end_time": "2021-12-15T06:10:17.729884Z",
     "start_time": "2021-12-15T06:10:17.717151Z"
    }
   },
   "outputs": [
    {
     "data": {
      "text/plain": [
       "[['6.00E+01', '6.00E+01'],\n",
       " ['2.00E+01', '1.84E+06'],\n",
       " ['0.00E+00', '3.13E+05'],\n",
       " ['2.00E+01', '-2.54E+04'],\n",
       " ['2.00E+01', '1.86E+06'],\n",
       " ['2.00E+01', '1.91E+06'],\n",
       " ['2.00E+01', '1.97E+06'],\n",
       " ['2.00E+01', '2.06E+06']]"
      ]
     },
     "execution_count": 15,
     "metadata": {},
     "output_type": "execute_result"
    }
   ],
   "source": [
    "[[format(element,'1.2E') for element in el] for el in b.tolist()]\n"
   ]
  },
  {
   "cell_type": "markdown",
   "id": "385e0e11",
   "metadata": {},
   "source": [
    "# Interpolacion de la curva del fabricante"
   ]
  },
  {
   "cell_type": "code",
   "execution_count": 20,
   "id": "d51c0b92",
   "metadata": {
    "ExecuteTime": {
     "end_time": "2021-12-15T06:12:16.387048Z",
     "start_time": "2021-12-15T06:12:16.235316Z"
    }
   },
   "outputs": [
    {
     "data": {
      "text/plain": [
       "<matplotlib.collections.PathCollection at 0x1c29df55340>"
      ]
     },
     "execution_count": 20,
     "metadata": {},
     "output_type": "execute_result"
    },
    {
     "data": {
      "image/png": "[encoded data removed]",
      "text/plain": [
       "<Figure size 432x288 with 1 Axes>"
      ]
     },
     "metadata": {
      "needs_background": "light"
     },
     "output_type": "display_data"
    }
   ],
   "source": [
    "plt.scatter(dfMfgCurve.index,dfMfgCurve.pw)"
   ]
  },
  {
   "cell_type": "code",
   "execution_count": 126,
   "id": "a38365f7",
   "metadata": {
    "ExecuteTime": {
     "end_time": "2021-12-15T07:26:35.738262Z",
     "start_time": "2021-12-15T07:26:35.716339Z"
    }
   },
   "outputs": [],
   "source": [
    "#crear un df con datos de velocidad de viento calculadas con range\n",
    "#y una fila pw de nan's para despues llenar esa fila con los datos de potencia\n",
    "#aqui solo crea el df sin interpolar\n",
    "rango_vViento =list(np.round(np.arange(0.1,27.7,0.1),decimals=1)) #para el indice de vv\n",
    "dfMfgCurve_interp = pd.DataFrame(data = {'pw': np.nan}, index =rango_vViento)\n",
    "#con el indice de las velocidades de viento que existen, voy a copiar las potencias que existen\n",
    "#al dataframe a interpolar\n",
    "for i in dfMfgCurve.index:\n",
    "    dfMfgCurve_interp[dfMfgCurve_interp.index == i] = dfMfgCurve.loc[i].pw\n",
    "#interpolando\n",
    "dfMfgCurve_interp.interpolate(method='linear',inplace=True )"
   ]
  },
  {
   "cell_type": "code",
   "execution_count": 125,
   "id": "8f39a821",
   "metadata": {
    "ExecuteTime": {
     "end_time": "2021-12-15T07:25:54.343009Z",
     "start_time": "2021-12-15T07:25:54.183133Z"
    },
    "scrolled": false
   },
   "outputs": [
    {
     "data": {
      "text/plain": [
       "<matplotlib.collections.PathCollection at 0x1c29f3490a0>"
      ]
     },
     "execution_count": 125,
     "metadata": {},
     "output_type": "execute_result"
    },
    {
     "data": {
      "image/png": "[encoded data removed]",
      "text/plain": [
       "<Figure size 720x576 with 1 Axes>"
      ]
     },
     "metadata": {
      "needs_background": "light"
     },
     "output_type": "display_data"
    }
   ],
   "source": [
    "plt.figure(figsize=(10,8))\n",
    "plt.scatter(dfMfgCurve_interp.index,dfMfgCurve_interp.pw,s=2)"
   ]
  },
  {
   "cell_type": "markdown",
   "id": "06b33b45",
   "metadata": {},
   "source": [
    "# Ubicar transiciones en curva de potencia"
   ]
  },
  {
   "cell_type": "code",
   "execution_count": 136,
   "id": "950babca",
   "metadata": {
    "ExecuteTime": {
     "end_time": "2021-12-15T07:33:53.344601Z",
     "start_time": "2021-12-15T07:33:53.337620Z"
    }
   },
   "outputs": [
    {
     "name": "stdout",
     "output_type": "stream",
     "text": [
      "velocidad 12.70 m/s = 1.992800E+06 w\n",
      "velocidad 10.70 m/s = 1.775200E+06 w\n",
      "velocidad 8.20 m/s = 9.446000E+05 w\n"
     ]
    }
   ],
   "source": [
    "#velocidad 12.7\n",
    "lista_vel=[12.7,10.7,8.2]\n",
    "for i in lista_vel:\n",
    "    print('velocidad %.2f m/s = %E w'% (i,dfMfgCurve_interp.loc[i].pw))"
   ]
  }
 ],
 "metadata": {
  "hide_input": false,
  "kernelspec": {
   "display_name": "Python 3 (ipykernel)",
   "language": "python",
   "name": "python3"
  },
  "language_info": {
   "codemirror_mode": {
    "name": "ipython",
    "version": 3
   },
   "file_extension": ".py",
   "mimetype": "text/x-python",
   "name": "python",
   "nbconvert_exporter": "python",
   "pygments_lexer": "ipython3",
   "version": "3.9.7"
  }
 },
 "nbformat": 4,
 "nbformat_minor": 5
}
