{
 "cells": [
  {
   "cell_type": "code",
   "execution_count": 5,
   "id": "dc44e913-30f1-4a49-8609-c3c7925b66b2",
   "metadata": {
    "ExecuteTime": {
     "end_time": "2021-12-03T08:01:30.480998Z",
     "start_time": "2021-12-03T08:01:30.472955Z"
    }
   },
   "outputs": [
    {
     "data": {
      "text/plain": [
       "'\\nNotebook para asociar una velocidad de viento a una curva de potencia ideal con un rango de error por definir\\n'"
      ]
     },
     "execution_count": 5,
     "metadata": {},
     "output_type": "execute_result"
    }
   ],
   "source": [
    "'''\n",
    "Notebook para asociar una velocidad de viento a una curva de potencia ideal con un rango de error por definir\n",
    "'''"
   ]
  },
  {
   "cell_type": "code",
   "execution_count": 53,
   "id": "e08e16fb-c288-4bd1-9ead-21d1b7215de5",
   "metadata": {
    "ExecuteTime": {
     "end_time": "2021-12-03T08:39:07.811153Z",
     "start_time": "2021-12-03T08:39:07.802054Z"
    }
   },
   "outputs": [],
   "source": [
    "import pandas as pd\n",
    "import numpy as np\n",
    "#importa las fuciones que cree desde otro notebook (instalar modulo ipynb)\n",
    "import ipynb.fs.defs.my_funcs_clusters as myfunc\n",
    "import matplotlib.pyplot as plt\n",
    "from matplotlib.ticker import EngFormatter\n",
    "from matplotlib import rc, font_manager\n",
    "import ipywidgets as widgets\n",
    "from ipywidgets import interact, interactive, fixed, interact_manual\n",
    "\n"
   ]
  },
  {
   "cell_type": "code",
   "execution_count": 8,
   "id": "4127b7fc-a6d1-466b-b305-65c98ebc78c9",
   "metadata": {
    "ExecuteTime": {
     "end_time": "2021-12-03T08:03:47.388230Z",
     "start_time": "2021-12-03T08:03:40.773465Z"
    }
   },
   "outputs": [
    {
     "name": "stdout",
     "output_type": "stream",
     "text": [
      "Total de registros: 52848\n",
      "Numero de filas sin datos\n",
      "vViento    312\n",
      "Pacw       312\n",
      "dtype: int64\n"
     ]
    }
   ],
   "source": [
    "lsPath = 'C:/Users/mungu/Documents/DatosWTG.xlsx'\n",
    "xlsPathMfgCurve = 'C:/Users/mungu/Dropbox/Doctorado/Python/aero/Curva de potencia vestas 90.xlsx'\n",
    "dataVDP,dfVecVel,dfMfgCurve = myfunc.raw_to_datafr(lsPath,xlsPathMfgCurve)\n",
    "dataVP = dataVDP.drop('Dir',axis=1)"
   ]
  },
  {
   "cell_type": "markdown",
   "id": "ba76ccf8",
   "metadata": {
    "ExecuteTime": {
     "end_time": "2021-12-03T08:04:15.763715Z",
     "start_time": "2021-12-03T08:04:15.743663Z"
    }
   },
   "source": [
    "# Encontrar la relación viento-potencia"
   ]
  },
  {
   "cell_type": "markdown",
   "id": "86406750",
   "metadata": {},
   "source": [
    "Quiero saber por cada x cantidad de viento, cuanta potencia sube"
   ]
  },
  {
   "cell_type": "code",
   "execution_count": 19,
   "id": "d5e032f7",
   "metadata": {
    "ExecuteTime": {
     "end_time": "2021-12-03T08:13:40.857067Z",
     "start_time": "2021-12-03T08:13:40.714116Z"
    }
   },
   "outputs": [
    {
     "data": {
      "text/plain": [
       "[<matplotlib.lines.Line2D at 0x1a4a75c26d0>]"
      ]
     },
     "execution_count": 19,
     "metadata": {},
     "output_type": "execute_result"
    },
    {
     "data": {
      "image/png": "[encoded data removed]",
      "text/plain": [
       "<Figure size 432x288 with 1 Axes>"
      ]
     },
     "metadata": {
      "needs_background": "light"
     },
     "output_type": "display_data"
    }
   ],
   "source": [
    "fechaini = '2016-01-01 00:00:00'\n",
    "fechafin= '2016-01-01 23:59:59'\n",
    "dataVP1Dia = dataVP.loc[fechaini:fechafin]\n",
    "dataVP1Dia_ord=dataVP1Dia.sort_values(by=['vViento'])\n",
    "plt.plot(dataVP1Dia_ord.vViento,dataVP1Dia_ord.Pw)"
   ]
  },
  {
   "cell_type": "code",
   "execution_count": 51,
   "id": "f2d83962",
   "metadata": {
    "ExecuteTime": {
     "end_time": "2021-12-03T08:33:42.484540Z",
     "start_time": "2021-12-03T08:33:42.469460Z"
    }
   },
   "outputs": [],
   "source": [
    "#Recolectando datos\n",
    "#numero de dias\n",
    "d1 =dataVP.index[0]\n",
    "d2=dataVP.index[-1]\n",
    "n =d2-d1\n",
    "ndias_total=n.days\n"
   ]
  },
  {
   "cell_type": "code",
   "execution_count": 68,
   "id": "835f0599",
   "metadata": {
    "ExecuteTime": {
     "end_time": "2021-12-03T08:55:43.422080Z",
     "start_time": "2021-12-03T08:55:43.407796Z"
    }
   },
   "outputs": [],
   "source": [
    "slider =widgets.IntSlider(\n",
    "    value=0,\n",
    "    min=0,\n",
    "    max=ndias_total,\n",
    "    step=1,\n",
    "    description='Dia:',\n",
    "    disabled=False,\n",
    "    continuous_update=False,\n",
    "    orientation='horizontal',\n",
    "    readout=True,\n",
    "    readout_format='d'\n",
    ")"
   ]
  },
  {
   "cell_type": "code",
   "execution_count": null,
   "id": "00862bcf",
   "metadata": {},
   "outputs": [],
   "source": []
  }
 ],
 "metadata": {
  "hide_input": false,
  "kernelspec": {
   "display_name": "Python 3 (ipykernel)",
   "language": "python",
   "name": "python3"
  },
  "language_info": {
   "codemirror_mode": {
    "name": "ipython",
    "version": 3
   },
   "file_extension": ".py",
   "mimetype": "text/x-python",
   "name": "python",
   "nbconvert_exporter": "python",
   "pygments_lexer": "ipython3",
   "version": "3.9.7"
  }
 },
 "nbformat": 4,
 "nbformat_minor": 5
}
